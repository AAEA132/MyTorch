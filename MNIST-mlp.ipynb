{
 "cells": [
  {
   "cell_type": "markdown",
   "metadata": {},
   "source": [
    "### Import Libraries"
   ]
  },
  {
   "cell_type": "code",
   "execution_count": 9,
   "metadata": {},
   "outputs": [],
   "source": [
    "\"If it does not work use code below while running this notebook in this dir.\"\n",
    "import sys\n",
    "import os\n",
    "sys.path.append(os.path.abspath(os.getcwd()))\n",
    "\n",
    "from mytorch import Tensor, Model\n",
    "from mytorch import activation as active_func\n",
    "from mytorch import loss as loss_func\n",
    "from mytorch import optimizer as optim \n",
    "from mytorch import layer as nn\n",
    "from mytorch.util import DataLoader\n",
    "\n",
    "from mytorch.util import flatten\n",
    "\n",
    "import matplotlib.pyplot as plt"
   ]
  },
  {
   "cell_type": "markdown",
   "metadata": {},
   "source": [
    "### Load MNIST"
   ]
  },
  {
   "cell_type": "code",
   "execution_count": 10,
   "metadata": {},
   "outputs": [
    {
     "name": "stdout",
     "output_type": "stream",
     "text": [
      "loading train...\n",
      "loading test...\n",
      "processing...\n",
      "(500, 28, 28)\n",
      "(500,)\n"
     ]
    }
   ],
   "source": [
    "\"\"\"\n",
    "load data set with given data loader.\n",
    "you have 10000 train data, 1000 for each number, remember to shuffle training data.\n",
    "you have 1000 test data, 100 for each number.\n",
    "\n",
    "loaded data is a list of (img, label)\n",
    "type of img is Tensor.\n",
    "\n",
    "TODO: you have to get this list and create batches for training.\n",
    "you can also apply this changes later in the Training part for convenience.\n",
    "\"\"\"\n",
    "data_loader = DataLoader(train_addr='MNIST/train', test_addr='MNIST/test')\n",
    "data_loader.load()\n",
    "\"you can see how data is loaded\"\n",
    "print(data_loader.getTrain()[0][0].shape)\n",
    "print(data_loader.getTrain()[0][1].shape)"
   ]
  },
  {
   "cell_type": "markdown",
   "metadata": {},
   "source": [
    "### Define and Create your Model"
   ]
  },
  {
   "cell_type": "code",
   "execution_count": 11,
   "metadata": {},
   "outputs": [
    {
     "name": "stdout",
     "output_type": "stream",
     "text": [
      "fc1:  linear - total param: 200704 - in: 784, out: 256\n",
      "fc2:  linear - total param: 32768 - in: 256, out: 128\n",
      "fc3:  linear - total param: 8192 - in: 128, out: 64\n",
      "fc4:  linear - total param: 640 - in: 64, out: 10\n",
      "None\n"
     ]
    }
   ],
   "source": [
    "class MyModel(Model):\n",
    "    def __init__(self):\n",
    "        \"TODO: define your layers. order is important\" \n",
    "        input_size = 28*28\n",
    "        output_size = 10\n",
    "\n",
    "        self.fc1 = nn.Linear(input_size, 2*128, need_bias=True)\n",
    "        self.fc2 = nn.Linear(2*128, 2*64, need_bias=True)\n",
    "        self.fc3 = nn.Linear(2*64, 2*32, need_bias=True)\n",
    "        self.fc4 = nn.Linear(2*32, output_size, need_bias=True)\n",
    "\n",
    "    def forward(self, x: Tensor) -> Tensor:\n",
    "        \"TODO: define forward pass\"\n",
    "        x = active_func.relu(self.fc1(x))\n",
    "        x = active_func.relu(self.fc2(x))\n",
    "        x = active_func.relu(self.fc3(x))\n",
    "        x = active_func.softmax(self.fc4(x))\n",
    "        \n",
    "        return x\n",
    "\n",
    "model = MyModel()\n",
    "print(model.summary())"
   ]
  },
  {
   "cell_type": "markdown",
   "metadata": {},
   "source": [
    "### Choose a Loss Function"
   ]
  },
  {
   "cell_type": "code",
   "execution_count": 12,
   "metadata": {},
   "outputs": [],
   "source": [
    "\"TODO: choose a proper loss function\"\n",
    "criterion = loss_func.CategoricalCrossEntropy"
   ]
  },
  {
   "cell_type": "markdown",
   "metadata": {},
   "source": [
    "### Choose an Optimizer"
   ]
  },
  {
   "cell_type": "code",
   "execution_count": 13,
   "metadata": {},
   "outputs": [],
   "source": [
    "\"TODO: choose a proper optimizer\"\n",
    "optimizer = optim.SGD(model.parameters(),learning_rate=0.001)"
   ]
  },
  {
   "cell_type": "markdown",
   "metadata": {},
   "source": [
    "### Training Model"
   ]
  },
  {
   "cell_type": "code",
   "execution_count": 14,
   "metadata": {},
   "outputs": [
    {
     "name": "stdout",
     "output_type": "stream",
     "text": [
      "Epoch 1/10:\n",
      "- Train Accuracy: 0.3803\n",
      "- Test Accuracy: 0.666\n",
      "Epoch 2/10:\n",
      "- Train Accuracy: 0.7128\n",
      "- Test Accuracy: 0.836\n",
      "Epoch 3/10:\n",
      "- Train Accuracy: 0.8395\n",
      "- Test Accuracy: 0.881\n",
      "Epoch 4/10:\n",
      "- Train Accuracy: 0.9037\n",
      "- Test Accuracy: 0.816\n",
      "Epoch 5/10:\n",
      "- Train Accuracy: 0.9232\n",
      "- Test Accuracy: 0.908\n",
      "Epoch 6/10:\n",
      "- Train Accuracy: 0.9385\n",
      "- Test Accuracy: 0.914\n",
      "Epoch 7/10:\n",
      "- Train Accuracy: 0.9489\n",
      "- Test Accuracy: 0.931\n",
      "Epoch 8/10:\n",
      "- Train Accuracy: 0.9594\n",
      "- Test Accuracy: 0.939\n",
      "Epoch 9/10:\n",
      "- Train Accuracy: 0.9656\n",
      "- Test Accuracy: 0.94\n",
      "Epoch 10/10:\n",
      "- Train Accuracy: 0.9732\n",
      "- Test Accuracy: 0.939\n"
     ]
    }
   ],
   "source": [
    "\"TODO: define number of epoch and train batches of data on your model. also test each epoch.\"\n",
    "import numpy as np\n",
    "\n",
    "EPOCH = 10\n",
    "\n",
    "train_acc = []\n",
    "test_acc = []\n",
    "best_train_acc = 0.0\n",
    "best_test_acc = 0.0\n",
    "\n",
    "for i in range(EPOCH):\n",
    "    \"TODO: train over your defined batches and save train accuracy for each epoch.\"\n",
    "    epoch_corr = 0\n",
    "    tst_corr = 0\n",
    "\n",
    "    for train_batch in data_loader.getTrain():\n",
    "        images, labels = train_batch\n",
    "        images = images.data.reshape(images.shape[0], -1)\n",
    "        images = Tensor(images / 255.0)\n",
    "        one_hot_labels = []\n",
    "        for label in labels.data:\n",
    "            one_hot = [0.0] * 10\n",
    "            one_hot[label] = 1.0\n",
    "            one_hot_labels.append(one_hot)\n",
    "        one_hot_labels = Tensor(one_hot_labels)\n",
    "\n",
    "        # Forward pass\n",
    "        predictions = model.forward(images)\n",
    "\n",
    "        # Zero the gradients\n",
    "        optimizer.zero_grad()\n",
    "\n",
    "        # Calculate loss\n",
    "        loss = criterion(predictions, one_hot_labels)\n",
    "\n",
    "        # Backward pass\n",
    "        loss.backward()\n",
    "\n",
    "        # Update weights and biases\n",
    "        optimizer.step()\n",
    "\n",
    "        # Calculate training accuracy\n",
    "        pred_labels = np.argmax(predictions.data, axis=1)\n",
    "        true_labels = labels.data.flatten()\n",
    "        epoch_corr += np.sum(pred_labels == true_labels)\n",
    "\n",
    "    epoch_acc = (epoch_corr/10000)\n",
    "    best_train_acc = epoch_acc if(best_train_acc < epoch_acc) else best_train_acc\n",
    "    train_acc.append(epoch_acc)\n",
    "\n",
    "    \"TODO: test your model after each training and save test accuracy for each epoch.\"\n",
    "    for test_batch in data_loader.getTest():\n",
    "        images, labels = test_batch\n",
    "        images = images.data.reshape(images.shape[0], -1)\n",
    "        images = Tensor(images / 255.0)\n",
    "\n",
    "        output = model.forward(images)\n",
    "        predicted_label = np.argmax(output.data, axis=1)\n",
    "\n",
    "        tst_corr += np.sum(predicted_label ==  labels.data.flatten())\n",
    "\n",
    "\n",
    "    test_accuracy = (tst_corr/1000)\n",
    "    best_test_acc = test_accuracy if(best_test_acc < test_accuracy) else best_test_acc\n",
    "    test_acc.append(test_accuracy)\n",
    "    print(f\"Epoch {i+1}/{EPOCH}:\\n- Train Accuracy: {epoch_acc}\\n- Test Accuracy: {test_accuracy}\")\n",
    "\n"
   ]
  },
  {
   "cell_type": "markdown",
   "metadata": {},
   "source": [
    "### Evaluate Model Performance"
   ]
  },
  {
   "cell_type": "code",
   "execution_count": 15,
   "metadata": {},
   "outputs": [
    {
     "data": {
      "image/png": "[encoded data removed]",
      "text/plain": [
       "<Figure size 640x480 with 1 Axes>"
      ]
     },
     "metadata": {},
     "output_type": "display_data"
    },
    {
     "name": "stdout",
     "output_type": "stream",
     "text": [
      "\n",
      "On train - best accuracy: 0.97, final accuracy: 0.97\n",
      "On test - best accuracy: 0.94, final accuracy: 0.94\n"
     ]
    }
   ],
   "source": [
    "plt.plot(train_acc, label='train accuracy')\n",
    "plt.plot(test_acc, label = 'test accuracy')\n",
    "plt.xlabel('Epoch')\n",
    "plt.ylabel('Accuracy')\n",
    "plt.legend(loc='lower right')\n",
    "plt.show();\n",
    "\n",
    "print(\"\\nOn train - best accuracy: {:.2f}, final accuracy: {:.2f}\".format(best_train_acc, train_acc[-1]))\n",
    "print(\"On test - best accuracy: {:.2f}, final accuracy: {:.2f}\".format(best_test_acc, test_acc[-1]))"
   ]
  },
  {
   "cell_type": "code",
   "execution_count": null,
   "metadata": {},
   "outputs": [],
   "source": []
  }
 ],
 "metadata": {
  "kernelspec": {
   "display_name": "quera",
   "language": "python",
   "name": "python3"
  },
  "language_info": {
   "codemirror_mode": {
    "name": "ipython",
    "version": 3
   },
   "file_extension": ".py",
   "mimetype": "text/x-python",
   "name": "python",
   "nbconvert_exporter": "python",
   "pygments_lexer": "ipython3",
   "version": "3.9.19"
  }
 },
 "nbformat": 4,
 "nbformat_minor": 2
}
