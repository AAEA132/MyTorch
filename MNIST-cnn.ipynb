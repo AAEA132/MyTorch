{
 "cells": [
  {
   "cell_type": "markdown",
   "metadata": {},
   "source": [
    "### Import Libraries"
   ]
  },
  {
   "cell_type": "code",
   "execution_count": 34,
   "metadata": {},
   "outputs": [],
   "source": [
    "\"If it does not work use code below while running this notebook in this dir.\"\n",
    "import sys\n",
    "import os\n",
    "sys.path.append(os.path.abspath(os.getcwd()))\n",
    "\n",
    "from mytorch import Tensor, Model\n",
    "from mytorch import activation as active_func\n",
    "from mytorch import loss as loss_func\n",
    "from mytorch import optimizer as optim \n",
    "from mytorch import layer as nn\n",
    "from mytorch.util import DataLoader\n",
    "\n",
    "from mytorch.util import flatten\n",
    "\n",
    "import matplotlib.pyplot as plt"
   ]
  },
  {
   "cell_type": "markdown",
   "metadata": {},
   "source": [
    "### Load MNIST"
   ]
  },
  {
   "cell_type": "code",
   "execution_count": 35,
   "metadata": {},
   "outputs": [
    {
     "name": "stdout",
     "output_type": "stream",
     "text": [
      "loading train...\n",
      "loading test...\n",
      "processing...\n",
      "(500, 28, 28)\n",
      "(500,)\n"
     ]
    }
   ],
   "source": [
    "\"\"\"\n",
    "load data set with given data loader.\n",
    "you have 10000 train data, 1000 for each number, remember to shuffle training data.\n",
    "you have 1000 test data, 100 for each number.\n",
    "\n",
    "loaded data is a list of (img, label)\n",
    "type of img is Tensor.\n",
    "\n",
    "TODO: you have to get this list and create batches for training.\n",
    "you can also apply this changes later in the Training part for convenience.\n",
    "\"\"\"\n",
    "data_loader = DataLoader(train_addr='MNIST/train', test_addr='MNIST/test')\n",
    "data_loader.load()\n",
    "\"you can see how data is loaded\"\n",
    "print(data_loader.getTrain()[0][0].shape)\n",
    "print(data_loader.getTrain()[0][1].shape)"
   ]
  },
  {
   "cell_type": "markdown",
   "metadata": {},
   "source": [
    "### Define and Create your Model"
   ]
  },
  {
   "cell_type": "code",
   "execution_count": 36,
   "metadata": {},
   "outputs": [
    {
     "name": "stdout",
     "output_type": "stream",
     "text": [
      "c1:  conv 2d - total params: 9 - kernel: (3, 3), stride: (1, 1), padding: (0, 0)\n",
      "p1:  avg pool 2d - kernel: (2, 2), stride: (2, 2), padding: (0, 0)\n",
      "c2:  conv 2d - total params: 9 - kernel: (3, 3), stride: (1, 1), padding: (0, 0)\n",
      "p2:  max pool 2d - kernel: (2, 2), stride: (2, 2), padding: (0, 0)\n",
      "fc1:  linear - total param: 12800 - in: 100, out: 128\n",
      "fc2:  linear - total param: 1280 - in: 128, out: 10\n",
      "None\n"
     ]
    }
   ],
   "source": [
    "class MyModel(Model):\n",
    "    def __init__(self):\n",
    "        \"TODO: define your layers. order is important\" \n",
    "        output_size = 10\n",
    "\n",
    "        # convolutional layers with avg & max pooling layers\n",
    "        self.c1 = nn.Conv2d(in_channels=1,out_channels=2, kernel_size=(3,3), padding=(0,0)) #28 x 28 -> 26 x 26\n",
    "        self.p1 = nn.AvgPool2d(2, 2, kernel_size=(2,2), stride=(2,2), padding=(0,0)) #26 x 26 -> 13 x 13\n",
    "        self.c2 = nn.Conv2d(in_channels=2,out_channels=4,kernel_size=(3,3), padding=(0,0)) #13 x 13 -> 11 x 11\n",
    "        self.p2 = nn.MaxPool2d(4, 4, kernel_size=(2,2), stride=(2,2), padding=(0,0)) #11 x 11 -> 5 x 5\n",
    "\n",
    "        # fully connected layers\n",
    "        self.fc1 = nn.Linear(inputs=4*5*5,outputs=128)\n",
    "        self.fc2 = nn.Linear(inputs=128,outputs=output_size)\n",
    "\n",
    "    def forward(self, x: Tensor) -> Tensor:\n",
    "        \"TODO: define forward pass\"\n",
    "        # convolutional layers with relu activation function and avg & max pooling layers\n",
    "        x = active_func.relu(self.c1.forward(x))\n",
    "        x = self.p1(x)\n",
    "        x = active_func.relu(self.c2.forward(x))\n",
    "        x = self.p2(x)\n",
    "\n",
    "        # flattening input for fully connected layers\n",
    "        x = flatten(x)\n",
    "        x = active_func.relu(self.fc1.forward(x))\n",
    "        x = active_func.softmax(self.fc2.forward(x))\n",
    "        return x\n",
    "\n",
    "model = MyModel()\n",
    "print(model.summary())"
   ]
  },
  {
   "cell_type": "markdown",
   "metadata": {},
   "source": [
    "### Choose a Loss Function"
   ]
  },
  {
   "cell_type": "code",
   "execution_count": 37,
   "metadata": {},
   "outputs": [],
   "source": [
    "\"TODO: choose a proper loss function\"\n",
    "criterion = loss_func.CategoricalCrossEntropy"
   ]
  },
  {
   "cell_type": "markdown",
   "metadata": {},
   "source": [
    "### Choose an Optimizer"
   ]
  },
  {
   "cell_type": "code",
   "execution_count": 38,
   "metadata": {},
   "outputs": [],
   "source": [
    "\"TODO: choose a proper optimizer\"\n",
    "optimizer = optim.SGD(model.parameters(),learning_rate=0.001)"
   ]
  },
  {
   "cell_type": "markdown",
   "metadata": {},
   "source": [
    "### Training Model"
   ]
  },
  {
   "cell_type": "code",
   "execution_count": 39,
   "metadata": {},
   "outputs": [
    {
     "name": "stdout",
     "output_type": "stream",
     "text": [
      "Epoch 1/20:\n",
      "- Train Accuracy: 0.5619\n",
      "- Test Accuracy: 0.672\n",
      "Epoch 2/20:\n",
      "- Train Accuracy: 0.7813\n",
      "- Test Accuracy: 0.834\n",
      "Epoch 3/20:\n",
      "- Train Accuracy: 0.8483\n",
      "- Test Accuracy: 0.85\n",
      "Epoch 4/20:\n",
      "- Train Accuracy: 0.8752\n",
      "- Test Accuracy: 0.871\n",
      "Epoch 5/20:\n",
      "- Train Accuracy: 0.8948\n",
      "- Test Accuracy: 0.865\n",
      "Epoch 6/20:\n",
      "- Train Accuracy: 0.8972\n",
      "- Test Accuracy: 0.889\n",
      "Epoch 7/20:\n",
      "- Train Accuracy: 0.9125\n",
      "- Test Accuracy: 0.9\n",
      "Epoch 8/20:\n",
      "- Train Accuracy: 0.9147\n",
      "- Test Accuracy: 0.906\n",
      "Epoch 9/20:\n",
      "- Train Accuracy: 0.9211\n",
      "- Test Accuracy: 0.906\n",
      "Epoch 10/20:\n",
      "- Train Accuracy: 0.9272\n",
      "- Test Accuracy: 0.906\n",
      "Epoch 11/20:\n",
      "- Train Accuracy: 0.9283\n",
      "- Test Accuracy: 0.909\n",
      "Epoch 12/20:\n",
      "- Train Accuracy: 0.9329\n",
      "- Test Accuracy: 0.913\n",
      "Epoch 13/20:\n",
      "- Train Accuracy: 0.9356\n",
      "- Test Accuracy: 0.915\n",
      "Epoch 14/20:\n",
      "- Train Accuracy: 0.9387\n",
      "- Test Accuracy: 0.915\n",
      "Epoch 15/20:\n",
      "- Train Accuracy: 0.9403\n",
      "- Test Accuracy: 0.918\n",
      "Epoch 16/20:\n",
      "- Train Accuracy: 0.9423\n",
      "- Test Accuracy: 0.92\n",
      "Epoch 17/20:\n",
      "- Train Accuracy: 0.9446\n",
      "- Test Accuracy: 0.922\n",
      "Epoch 18/20:\n",
      "- Train Accuracy: 0.9462\n",
      "- Test Accuracy: 0.924\n",
      "Epoch 19/20:\n",
      "- Train Accuracy: 0.9484\n",
      "- Test Accuracy: 0.927\n",
      "Epoch 20/20:\n",
      "- Train Accuracy: 0.9499\n",
      "- Test Accuracy: 0.928\n"
     ]
    }
   ],
   "source": [
    "\"TODO: define number of epoch and train batches of data on your model. also test each epoch.\"\n",
    "import numpy as np\n",
    "\n",
    "EPOCH = 20\n",
    "\n",
    "train_acc = []\n",
    "test_acc = []\n",
    "best_train_acc = 0.0\n",
    "best_test_acc = 0.0\n",
    "\n",
    "for i in range(EPOCH):\n",
    "\n",
    "    \"TODO: train over your defined batches and save train accuracy for each epoch.\"\n",
    "    epoch_corr = 0\n",
    "    tst_corr = 0\n",
    "\n",
    "    for train_batch in data_loader.getTrain():\n",
    "        images, labels = train_batch\n",
    "        images = images.data.reshape(images.shape[0], 1, 28, 28)\n",
    "        images = Tensor(images / 255.0)\n",
    "        one_hot_labels = []\n",
    "        for label in labels.data:\n",
    "            one_hot = [0.0] * 10\n",
    "            one_hot[label] = 1.0\n",
    "            one_hot_labels.append(one_hot)\n",
    "        one_hot_labels = Tensor(one_hot_labels)\n",
    "\n",
    "        # Forward pass\n",
    "        predictions = model.forward(images)\n",
    "\n",
    "        # Zero the gradients\n",
    "        optimizer.zero_grad()\n",
    "\n",
    "        # Calculate loss\n",
    "        loss = criterion(predictions, one_hot_labels)\n",
    "\n",
    "        # Backward pass\n",
    "        loss.backward()\n",
    "\n",
    "        # Update weights and biases\n",
    "        optimizer.step()\n",
    "\n",
    "        # Calculate training accuracy\n",
    "        pred_labels = np.argmax(predictions.data, axis=1)\n",
    "        epoch_corr += np.sum(pred_labels == labels.data)\n",
    "\n",
    "    epoch_acc = (epoch_corr/10000)\n",
    "    best_train_acc = epoch_acc if(best_train_acc < epoch_acc) else best_train_acc\n",
    "    train_acc.append(epoch_acc)\n",
    "\n",
    "    \"TODO: test your model after each training and save test accuracy for each epoch.\"\n",
    "    for test_batch in data_loader.getTest():\n",
    "        images, labels = test_batch\n",
    "        images = images.data.reshape(images.shape[0], 1, 28, 28)\n",
    "        images = Tensor(images / 255.0)\n",
    "\n",
    "        output = model.forward(images)\n",
    "        predicted_label = np.argmax(output.data, axis=1)\n",
    "\n",
    "        tst_corr += np.sum(predicted_label ==  labels.data)\n",
    "\n",
    "\n",
    "    test_accuracy = (tst_corr/1000)\n",
    "    best_test_acc = test_accuracy if(best_test_acc < test_accuracy) else best_test_acc\n",
    "    test_acc.append(test_accuracy)\n",
    "    print(f\"Epoch {i+1}/{EPOCH}:\\n- Train Accuracy: {epoch_acc}\\n- Test Accuracy: {test_accuracy}\")"
   ]
  },
  {
   "cell_type": "markdown",
   "metadata": {},
   "source": [
    "### Evaluate Model Performance"
   ]
  },
  {
   "cell_type": "code",
   "execution_count": 40,
   "metadata": {},
   "outputs": [
    {
     "data": {
      "image/png": "[encoded data removed]",
      "text/plain": [
       "<Figure size 640x480 with 1 Axes>"
      ]
     },
     "metadata": {},
     "output_type": "display_data"
    },
    {
     "name": "stdout",
     "output_type": "stream",
     "text": [
      "\n",
      "On train - best accuracy: 0.95, final accuracy: 0.95\n",
      "On test - best accuracy: 0.93, final accuracy: 0.93\n"
     ]
    }
   ],
   "source": [
    "plt.plot(train_acc, label='train accuracy')\n",
    "plt.plot(test_acc, label = 'test accuracy')\n",
    "plt.xlabel('Epoch')\n",
    "plt.ylabel('Accuracy')\n",
    "plt.legend(loc='lower right')\n",
    "plt.show();\n",
    "\n",
    "print(\"\\nOn train - best accuracy: {:.2f}, final accuracy: {:.2f}\".format(best_train_acc, train_acc[-1]))\n",
    "print(\"On test - best accuracy: {:.2f}, final accuracy: {:.2f}\".format(best_test_acc, test_acc[-1]))"
   ]
  },
  {
   "cell_type": "code",
   "execution_count": null,
   "metadata": {},
   "outputs": [],
   "source": []
  }
 ],
 "metadata": {
  "kernelspec": {
   "display_name": "quera",
   "language": "python",
   "name": "python3"
  },
  "language_info": {
   "codemirror_mode": {
    "name": "ipython",
    "version": 3
   },
   "file_extension": ".py",
   "mimetype": "text/x-python",
   "name": "python",
   "nbconvert_exporter": "python",
   "pygments_lexer": "ipython3",
   "version": "3.9.19"
  }
 },
 "nbformat": 4,
 "nbformat_minor": 2
}
